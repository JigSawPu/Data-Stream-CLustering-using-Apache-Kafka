{
 "cells": [
  {
   "attachments": {},
   "cell_type": "markdown",
   "metadata": {},
   "source": [
    "**`Import necessary libraries`**"
   ]
  },
  {
   "cell_type": "code",
   "execution_count": 1,
   "metadata": {},
   "outputs": [],
   "source": [
    "# import all the necessary libraries\n",
    "import time\n",
    "import cv2\n",
    "from loguru import logger\n",
    "from kafka import KafkaProducer\n",
    "from Encoder_Decoder.encode_and_transmit import *"
   ]
  },
  {
   "attachments": {},
   "cell_type": "markdown",
   "metadata": {},
   "source": [
    "**`Load the video using opencv2`**\n"
   ]
  },
  {
   "cell_type": "code",
   "execution_count": 2,
   "metadata": {},
   "outputs": [],
   "source": [
    "#load the video file\n",
    "video_file='pexels-roman-odintsov-4927323-426x226-30fps.mp4'\n",
    "cap = cv2.VideoCapture(video_file)"
   ]
  },
  {
   "attachments": {},
   "cell_type": "markdown",
   "metadata": {},
   "source": [
    "**`Setup a streaming server`**"
   ]
  },
  {
   "cell_type": "code",
   "execution_count": 3,
   "metadata": {},
   "outputs": [],
   "source": [
    "bootstrap_servers = ['127.0.0.1:9093'] #hostname:port, this is the server where we will consume streaming data\n",
    "topicName = 'video' #name of the kafka topic to subsribe to "
   ]
  },
  {
   "attachments": {},
   "cell_type": "markdown",
   "metadata": {},
   "source": [
    "**`split the video into frames for streaming`**"
   ]
  },
  {
   "attachments": {},
   "cell_type": "markdown",
   "metadata": {},
   "source": [
    "*`Until there is no frame left in the video,`*  \n",
    "*`send one frame every second to a Kafka server`*  \n",
    "*`Apache kafka works with a publish and subscribe framework`*  \n",
    "*`Producer publishes to a topic`*"
   ]
  },
  {
   "cell_type": "code",
   "execution_count": 4,
   "metadata": {},
   "outputs": [],
   "source": [
    "#this callback is used to display error if occured while sending frames\n",
    "def error_callback(exc):\n",
    "      raise Exception('Error while sending data to kafka: {0}'.format(str(exc)))\n",
    "\n",
    "#function to send video frames one by one every second\n",
    "def Start_Streaming(topic_name):\n",
    "    try:\n",
    "        while(cap.isOpened()): # send frames until there are no frames left in the video\n",
    "            ret, frame = cap.read()\n",
    "            if ret == True: #if there is a frame to send\n",
    "                producer = KafkaProducer(bootstrap_servers=bootstrap_servers) #connect to the streaming server\n",
    "                #encode the frame to a base64 format\n",
    "                #publish the frame to a Kafka topic named \"video\" \n",
    "                producer.send(topic_name, encode_and_transmit_numpy_array_in_bytes(frame).encode()) \\\n",
    "                    .add_errback(error_callback)\n",
    "                time.sleep(1)\n",
    "                producer.flush() #check if previous frame was sent succesfully\n",
    "            else:\n",
    "                break\n",
    "        cap.release()\n",
    "    except KeyboardInterrupt:\n",
    "        logger.info(\"Streaming interrupted\")\n"
   ]
  },
  {
   "attachments": {},
   "cell_type": "markdown",
   "metadata": {},
   "source": [
    "**`Stop or Pause the streaming by stopping the running cell`**"
   ]
  },
  {
   "cell_type": "code",
   "execution_count": 5,
   "metadata": {},
   "outputs": [
    {
     "name": "stderr",
     "output_type": "stream",
     "text": [
      "\u001b[32m2023-06-21 13:02:25.706\u001b[0m | \u001b[1mINFO    \u001b[0m | \u001b[36m__main__\u001b[0m:\u001b[36mStart_Streaming\u001b[0m:\u001b[36m22\u001b[0m - \u001b[1mStreaming interrupted\u001b[0m\n"
     ]
    }
   ],
   "source": [
    "Start_Streaming('video')"
   ]
  }
 ],
 "metadata": {
  "kernelspec": {
   "display_name": "ml",
   "language": "python",
   "name": "python3"
  },
  "language_info": {
   "codemirror_mode": {
    "name": "ipython",
    "version": 3
   },
   "file_extension": ".py",
   "mimetype": "text/x-python",
   "name": "python",
   "nbconvert_exporter": "python",
   "pygments_lexer": "ipython3",
   "version": "3.11.3"
  },
  "orig_nbformat": 4
 },
 "nbformat": 4,
 "nbformat_minor": 2
}
